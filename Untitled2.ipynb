{
 "cells": [
  {
   "cell_type": "code",
   "execution_count": 1,
   "id": "2f13469c-75eb-422d-adba-1562a65f4ba5",
   "metadata": {},
   "outputs": [
    {
     "name": "stdout",
     "output_type": "stream",
     "text": [
      "['False', 'None', 'True', 'and', 'as', 'assert', 'async', 'await', 'break', 'class', 'continue', 'def', 'del', 'elif', 'else', 'except', 'finally', 'for', 'from', 'global', 'if', 'import', 'in', 'is', 'lambda', 'nonlocal', 'not', 'or', 'pass', 'raise', 'return', 'try', 'while', 'with', 'yield']\n"
     ]
    }
   ],
   "source": [
    "import keyword\n",
    "print(keyword.kwlist)"
   ]
  },
  {
   "cell_type": "code",
   "execution_count": 2,
   "id": "a15a63b4-4de7-4ea7-90be-4f7c15d6b919",
   "metadata": {},
   "outputs": [
    {
     "data": {
      "text/plain": [
       "35"
      ]
     },
     "execution_count": 2,
     "metadata": {},
     "output_type": "execute_result"
    }
   ],
   "source": [
    "len(keyword.kwlist)"
   ]
  },
  {
   "cell_type": "code",
   "execution_count": 4,
   "id": "4ecf8e87-065e-4e05-8cb2-ba195c7e35bd",
   "metadata": {},
   "outputs": [
    {
     "data": {
      "text/plain": [
       "35"
      ]
     },
     "execution_count": 4,
     "metadata": {},
     "output_type": "execute_result"
    }
   ],
   "source": [
    "len(keyword.kwlist)"
   ]
  },
  {
   "cell_type": "code",
   "execution_count": 5,
   "id": "49c6bb74-30ba-46ad-944b-d64d2f2ac8e8",
   "metadata": {},
   "outputs": [
    {
     "data": {
      "text/plain": [
       "'2406'"
      ]
     },
     "execution_count": 5,
     "metadata": {},
     "output_type": "execute_result"
    }
   ],
   "source": [
    "false=\"2406\"\n",
    "false"
   ]
  },
  {
   "cell_type": "code",
   "execution_count": 6,
   "id": "ba37d489-70da-4131-af68-839a5fa11fc0",
   "metadata": {},
   "outputs": [
    {
     "data": {
      "text/plain": [
       "50"
      ]
     },
     "execution_count": 6,
     "metadata": {},
     "output_type": "execute_result"
    }
   ],
   "source": [
    "a1=50\n",
    "a1"
   ]
  },
  {
   "cell_type": "code",
   "execution_count": 9,
   "id": "cca51b91-29ba-49f5-bb6b-f8fa83f4e870",
   "metadata": {},
   "outputs": [
    {
     "ename": "SyntaxError",
     "evalue": "invalid decimal literal (466779400.py, line 1)",
     "output_type": "error",
     "traceback": [
      "\u001b[1;36m  Cell \u001b[1;32mIn[9], line 1\u001b[1;36m\u001b[0m\n\u001b[1;33m    1b = 90\u001b[0m\n\u001b[1;37m    ^\u001b[0m\n\u001b[1;31mSyntaxError\u001b[0m\u001b[1;31m:\u001b[0m invalid decimal literal\n"
     ]
    }
   ],
   "source": [
    "1b = 90\n",
    "1b"
   ]
  },
  {
   "cell_type": "code",
   "execution_count": 10,
   "id": "dfbc8e3d-19a3-4318-9627-cbbfb42e3305",
   "metadata": {},
   "outputs": [
    {
     "ename": "SyntaxError",
     "evalue": "invalid syntax (1782355696.py, line 1)",
     "output_type": "error",
     "traceback": [
      "\u001b[1;36m  Cell \u001b[1;32mIn[10], line 1\u001b[1;36m\u001b[0m\n\u001b[1;33m    b$7 = 80\u001b[0m\n\u001b[1;37m     ^\u001b[0m\n\u001b[1;31mSyntaxError\u001b[0m\u001b[1;31m:\u001b[0m invalid syntax\n"
     ]
    }
   ],
   "source": [
    "b$7 = 80\n",
    "b$7"
   ]
  },
  {
   "cell_type": "code",
   "execution_count": 11,
   "id": "c10fb6ec-567f-49db-8764-b84435b8a8c7",
   "metadata": {},
   "outputs": [
    {
     "data": {
      "text/plain": [
       "404"
      ]
     },
     "execution_count": 11,
     "metadata": {},
     "output_type": "execute_result"
    }
   ],
   "source": [
    "b_6 =404\n",
    "b_6"
   ]
  },
  {
   "cell_type": "code",
   "execution_count": 12,
   "id": "7fc191e7-f3de-4155-b30a-fdd1e41ec4ef",
   "metadata": {},
   "outputs": [
    {
     "data": {
      "text/plain": [
       "1607017648496"
      ]
     },
     "execution_count": 12,
     "metadata": {},
     "output_type": "execute_result"
    }
   ],
   "source": [
    "#storage location\n",
    "id(b_6)"
   ]
  },
  {
   "cell_type": "code",
   "execution_count": 13,
   "id": "ec727d29-ff6f-45a6-83f8-45276da7e53f",
   "metadata": {},
   "outputs": [
    {
     "data": {
      "text/plain": [
       "1607017648816"
      ]
     },
     "execution_count": 13,
     "metadata": {},
     "output_type": "execute_result"
    }
   ],
   "source": [
    "v = 601\n",
    "v\n",
    "id(v)"
   ]
  },
  {
   "cell_type": "code",
   "execution_count": 14,
   "id": "20286ca3-7f85-49e4-a64a-72f096850fd7",
   "metadata": {},
   "outputs": [
    {
     "data": {
      "text/plain": [
       "1607017644496"
      ]
     },
     "execution_count": 14,
     "metadata": {},
     "output_type": "execute_result"
    }
   ],
   "source": [
    "v =600\n",
    "id(v)"
   ]
  },
  {
   "cell_type": "code",
   "execution_count": 15,
   "id": "89739761-1b66-4c00-b5d7-dd9de1c2b935",
   "metadata": {},
   "outputs": [
    {
     "data": {
      "text/plain": [
       "140713629306440"
      ]
     },
     "execution_count": 15,
     "metadata": {},
     "output_type": "execute_result"
    }
   ],
   "source": [
    "b = 90\n",
    "c = 70\n",
    "id(b)"
   ]
  },
  {
   "cell_type": "code",
   "execution_count": 17,
   "id": "73839dc3-6e7a-48cc-8a30-b54cc8d41d9a",
   "metadata": {},
   "outputs": [
    {
     "data": {
      "text/plain": [
       "140713629305800"
      ]
     },
     "execution_count": 17,
     "metadata": {},
     "output_type": "execute_result"
    }
   ],
   "source": [
    "id(c)"
   ]
  },
  {
   "cell_type": "code",
   "execution_count": 18,
   "id": "5f9565b3-b732-4c58-9573-8d8b862f5059",
   "metadata": {},
   "outputs": [
    {
     "data": {
      "text/plain": [
       "140713629306440"
      ]
     },
     "execution_count": 18,
     "metadata": {},
     "output_type": "execute_result"
    }
   ],
   "source": [
    "d =90\n",
    "id(d)"
   ]
  },
  {
   "cell_type": "code",
   "execution_count": 19,
   "id": "42c69802-463e-4a7b-891f-0e08d8315027",
   "metadata": {},
   "outputs": [
    {
     "data": {
      "text/plain": [
       "140713629305224"
      ]
     },
     "execution_count": 19,
     "metadata": {},
     "output_type": "execute_result"
    }
   ],
   "source": [
    "d = 52\n",
    "id(d)"
   ]
  },
  {
   "cell_type": "code",
   "execution_count": null,
   "id": "2633fbc3-efcf-4f11-8387-a77d6f645b1d",
   "metadata": {},
   "outputs": [],
   "source": []
  }
 ],
 "metadata": {
  "kernelspec": {
   "display_name": "Python 3 (ipykernel)",
   "language": "python",
   "name": "python3"
  },
  "language_info": {
   "codemirror_mode": {
    "name": "ipython",
    "version": 3
   },
   "file_extension": ".py",
   "mimetype": "text/x-python",
   "name": "python",
   "nbconvert_exporter": "python",
   "pygments_lexer": "ipython3",
   "version": "3.11.7"
  }
 },
 "nbformat": 4,
 "nbformat_minor": 5
}
