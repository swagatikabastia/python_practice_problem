{
 "cells": [
  {
   "cell_type": "markdown",
   "id": "66b6bd2c-85c0-42b5-800d-6998241672ad",
   "metadata": {},
   "source": [
    "operators"
   ]
  },
  {
   "cell_type": "code",
   "execution_count": 2,
   "id": "2eaa7daf-b6bc-47b3-9221-7982dfd31e68",
   "metadata": {},
   "outputs": [
    {
     "data": {
      "text/plain": [
       "46"
      ]
     },
     "execution_count": 2,
     "metadata": {},
     "output_type": "execute_result"
    }
   ],
   "source": [
    "12+34"
   ]
  },
  {
   "cell_type": "markdown",
   "id": "02ecd7fe-d00c-459f-86f0-6526eeeea943",
   "metadata": {},
   "source": [
    "45-34"
   ]
  },
  {
   "cell_type": "code",
   "execution_count": 3,
   "id": "870eddbb-3869-4762-963a-d8ddb7b5dd51",
   "metadata": {},
   "outputs": [
    {
     "data": {
      "text/plain": [
       "28"
      ]
     },
     "execution_count": 3,
     "metadata": {},
     "output_type": "execute_result"
    }
   ],
   "source": [
    "4*7"
   ]
  },
  {
   "cell_type": "code",
   "execution_count": 4,
   "id": "1dcb8e73-0ee6-4ac4-b0bd-d2174c505ff8",
   "metadata": {},
   "outputs": [
    {
     "data": {
      "text/plain": [
       "3.5"
      ]
     },
     "execution_count": 4,
     "metadata": {},
     "output_type": "execute_result"
    }
   ],
   "source": [
    "7/2"
   ]
  },
  {
   "cell_type": "code",
   "execution_count": 5,
   "id": "91a5e364-15d7-4a63-b77c-0a2f77e44884",
   "metadata": {},
   "outputs": [
    {
     "data": {
      "text/plain": [
       "8000"
      ]
     },
     "execution_count": 5,
     "metadata": {},
     "output_type": "execute_result"
    }
   ],
   "source": [
    "20**3"
   ]
  },
  {
   "cell_type": "code",
   "execution_count": 6,
   "id": "b5f1431d-cb07-4ec5-8e48-034fe154a6da",
   "metadata": {},
   "outputs": [
    {
     "data": {
      "text/plain": [
       "6.666666666666667"
      ]
     },
     "execution_count": 6,
     "metadata": {},
     "output_type": "execute_result"
    }
   ],
   "source": [
    "20/3"
   ]
  },
  {
   "cell_type": "code",
   "execution_count": 7,
   "id": "778dba63-2bc4-406a-9fb3-212a69ae995c",
   "metadata": {},
   "outputs": [
    {
     "data": {
      "text/plain": [
       "3"
      ]
     },
     "execution_count": 7,
     "metadata": {},
     "output_type": "execute_result"
    }
   ],
   "source": [
    "11//3"
   ]
  },
  {
   "cell_type": "code",
   "execution_count": 8,
   "id": "ff01eaa1-b6e4-4fb7-90d7-588e463ca274",
   "metadata": {},
   "outputs": [
    {
     "data": {
      "text/plain": [
       "2"
      ]
     },
     "execution_count": 8,
     "metadata": {},
     "output_type": "execute_result"
    }
   ],
   "source": [
    "23%3"
   ]
  },
  {
   "cell_type": "code",
   "execution_count": 9,
   "id": "675e820b-6277-4db5-b4b6-382835cce193",
   "metadata": {},
   "outputs": [
    {
     "data": {
      "text/plain": [
       "108"
      ]
     },
     "execution_count": 9,
     "metadata": {},
     "output_type": "execute_result"
    }
   ],
   "source": [
    "(4+5)*(5+7)"
   ]
  },
  {
   "cell_type": "code",
   "execution_count": 10,
   "id": "a135d943-670c-4476-a4d5-283445efda9b",
   "metadata": {},
   "outputs": [
    {
     "name": "stdout",
     "output_type": "stream",
     "text": [
      "575\n",
      "0.92\n",
      "23\n"
     ]
    }
   ],
   "source": [
    "a=23\n",
    "b=25\n",
    "print(a*b)\n",
    "print(a/b)\n",
    "print(a%b)"
   ]
  },
  {
   "cell_type": "code",
   "execution_count": 11,
   "id": "00161192-1ed4-4c97-a330-995530876b58",
   "metadata": {},
   "outputs": [
    {
     "data": {
      "text/plain": [
       "23.0"
      ]
     },
     "execution_count": 11,
     "metadata": {},
     "output_type": "execute_result"
    }
   ],
   "source": [
    "a-b*a/b+a"
   ]
  },
  {
   "cell_type": "code",
   "execution_count": 12,
   "id": "82716c89-9a13-4a98-a5d0-62aaaf279e02",
   "metadata": {},
   "outputs": [
    {
     "data": {
      "text/plain": [
       "32"
      ]
     },
     "execution_count": 12,
     "metadata": {},
     "output_type": "execute_result"
    }
   ],
   "source": [
    "(4*(3+5))"
   ]
  },
  {
   "cell_type": "code",
   "execution_count": 13,
   "id": "576e7060-60f1-4d86-a66a-91b70624ff99",
   "metadata": {},
   "outputs": [
    {
     "data": {
      "text/plain": [
       "625"
      ]
     },
     "execution_count": 13,
     "metadata": {},
     "output_type": "execute_result"
    }
   ],
   "source": [
    "6//4%3+5**4-1"
   ]
  },
  {
   "cell_type": "code",
   "execution_count": 14,
   "id": "e00b13e6-4358-4609-bdaa-f05dc87e288d",
   "metadata": {},
   "outputs": [
    {
     "data": {
      "text/plain": [
       "5.0"
      ]
     },
     "execution_count": 14,
     "metadata": {},
     "output_type": "execute_result"
    }
   ],
   "source": [
    "8//3*3/2+10%2**2"
   ]
  },
  {
   "cell_type": "code",
   "execution_count": 15,
   "id": "be78a6ce-4da2-46df-a6ba-9d67c7a5a300",
   "metadata": {},
   "outputs": [
    {
     "data": {
      "text/plain": [
       "True"
      ]
     },
     "execution_count": 15,
     "metadata": {},
     "output_type": "execute_result"
    }
   ],
   "source": [
    "34>12"
   ]
  },
  {
   "cell_type": "code",
   "execution_count": 16,
   "id": "4982fc60-3ced-4466-9b4e-ecb5f1585e10",
   "metadata": {},
   "outputs": [
    {
     "data": {
      "text/plain": [
       "False"
      ]
     },
     "execution_count": 16,
     "metadata": {},
     "output_type": "execute_result"
    }
   ],
   "source": [
    "45<13"
   ]
  },
  {
   "cell_type": "code",
   "execution_count": 17,
   "id": "11a5f151-8ba0-4cbe-9186-2e9b3d5fbdb1",
   "metadata": {},
   "outputs": [
    {
     "data": {
      "text/plain": [
       "True"
      ]
     },
     "execution_count": 17,
     "metadata": {},
     "output_type": "execute_result"
    }
   ],
   "source": [
    "2*5<5*4"
   ]
  },
  {
   "cell_type": "code",
   "execution_count": 18,
   "id": "ee7736b6-dc23-4055-aab7-acc4f8f8e78b",
   "metadata": {},
   "outputs": [
    {
     "data": {
      "text/plain": [
       "True"
      ]
     },
     "execution_count": 18,
     "metadata": {},
     "output_type": "execute_result"
    }
   ],
   "source": [
    "34==34"
   ]
  },
  {
   "cell_type": "code",
   "execution_count": 19,
   "id": "211e9b05-90ca-4ac0-9fb2-e7d246daeecf",
   "metadata": {},
   "outputs": [
    {
     "data": {
      "text/plain": [
       "True"
      ]
     },
     "execution_count": 19,
     "metadata": {},
     "output_type": "execute_result"
    }
   ],
   "source": [
    "5!=6"
   ]
  },
  {
   "cell_type": "code",
   "execution_count": 20,
   "id": "19ab704c-3e7a-4c97-98c3-f00fef8d61fb",
   "metadata": {},
   "outputs": [
    {
     "data": {
      "text/plain": [
       "True"
      ]
     },
     "execution_count": 20,
     "metadata": {},
     "output_type": "execute_result"
    }
   ],
   "source": [
    "1>=1"
   ]
  },
  {
   "cell_type": "code",
   "execution_count": 21,
   "id": "129ea526-41a4-470f-8bc4-e3e5dd1b40c6",
   "metadata": {},
   "outputs": [
    {
     "data": {
      "text/plain": [
       "False"
      ]
     },
     "execution_count": 21,
     "metadata": {},
     "output_type": "execute_result"
    }
   ],
   "source": [
    "6<=3"
   ]
  },
  {
   "cell_type": "code",
   "execution_count": 22,
   "id": "871a6655-bf3f-4e20-ac70-28a78f3c3a7c",
   "metadata": {},
   "outputs": [
    {
     "data": {
      "text/plain": [
       "True"
      ]
     },
     "execution_count": 22,
     "metadata": {},
     "output_type": "execute_result"
    }
   ],
   "source": [
    "56==56.0"
   ]
  },
  {
   "cell_type": "code",
   "execution_count": 23,
   "id": "40b2cab1-1a1e-4312-9e90-aa6a51934da3",
   "metadata": {},
   "outputs": [
    {
     "data": {
      "text/plain": [
       "False"
      ]
     },
     "execution_count": 23,
     "metadata": {},
     "output_type": "execute_result"
    }
   ],
   "source": [
    "'hii'=='Hii'"
   ]
  },
  {
   "cell_type": "code",
   "execution_count": 24,
   "id": "8d71506c-0b7e-471c-b5b9-005e755b26d7",
   "metadata": {},
   "outputs": [
    {
     "data": {
      "text/plain": [
       "'0b1100101'"
      ]
     },
     "execution_count": 24,
     "metadata": {},
     "output_type": "execute_result"
    }
   ],
   "source": [
    "bin(101)"
   ]
  },
  {
   "cell_type": "code",
   "execution_count": 25,
   "id": "6857cc8a-a458-44a7-a8a5-42cdae63cbc3",
   "metadata": {},
   "outputs": [
    {
     "data": {
      "text/plain": [
       "73"
      ]
     },
     "execution_count": 25,
     "metadata": {},
     "output_type": "execute_result"
    }
   ],
   "source": [
    "0b1001001"
   ]
  },
  {
   "cell_type": "code",
   "execution_count": 26,
   "id": "8b989468-26b3-4382-a8a9-231ac7ef1944",
   "metadata": {},
   "outputs": [
    {
     "name": "stdout",
     "output_type": "stream",
     "text": [
      "7\n"
     ]
    }
   ],
   "source": [
    "a=5\n",
    "b=7\n",
    "print(a|b)"
   ]
  },
  {
   "cell_type": "code",
   "execution_count": 27,
   "id": "ebc0227f-0793-4bd5-a8c3-640adc3466f7",
   "metadata": {},
   "outputs": [
    {
     "name": "stdout",
     "output_type": "stream",
     "text": [
      "8\n"
     ]
    }
   ],
   "source": [
    "a=8\n",
    "b=9\n",
    "print(a&b)"
   ]
  },
  {
   "cell_type": "code",
   "execution_count": 28,
   "id": "3f687176-469b-4ed6-a8f0-0fa97edbf9c8",
   "metadata": {},
   "outputs": [
    {
     "data": {
      "text/plain": [
       "15"
      ]
     },
     "execution_count": 28,
     "metadata": {},
     "output_type": "execute_result"
    }
   ],
   "source": [
    "9|6"
   ]
  },
  {
   "cell_type": "code",
   "execution_count": 29,
   "id": "0a45bc73-5779-45fe-ba7b-720c6064915c",
   "metadata": {},
   "outputs": [
    {
     "data": {
      "text/plain": [
       "0"
      ]
     },
     "execution_count": 29,
     "metadata": {},
     "output_type": "execute_result"
    }
   ],
   "source": [
    "6&8"
   ]
  },
  {
   "cell_type": "code",
   "execution_count": 30,
   "id": "661a8010-b32b-4f11-8fde-73c861251a54",
   "metadata": {},
   "outputs": [
    {
     "data": {
      "text/plain": [
       "True"
      ]
     },
     "execution_count": 30,
     "metadata": {},
     "output_type": "execute_result"
    }
   ],
   "source": [
    "(3>6)or(6<8)"
   ]
  },
  {
   "cell_type": "code",
   "execution_count": 31,
   "id": "65234e35-9f1f-42e2-8d8d-29cc1f01b971",
   "metadata": {},
   "outputs": [
    {
     "data": {
      "text/plain": [
       "False"
      ]
     },
     "execution_count": 31,
     "metadata": {},
     "output_type": "execute_result"
    }
   ],
   "source": [
    "(3>6)and(6<8)"
   ]
  },
  {
   "cell_type": "code",
   "execution_count": 32,
   "id": "93e3c3c4-da49-48ea-9481-c9e6e43dd714",
   "metadata": {},
   "outputs": [
    {
     "data": {
      "text/plain": [
       "False"
      ]
     },
     "execution_count": 32,
     "metadata": {},
     "output_type": "execute_result"
    }
   ],
   "source": [
    "not True"
   ]
  },
  {
   "cell_type": "code",
   "execution_count": 33,
   "id": "b0106a5b-962c-40c7-9fd2-02b2bb2a09a6",
   "metadata": {},
   "outputs": [
    {
     "data": {
      "text/plain": [
       "True"
      ]
     },
     "execution_count": 33,
     "metadata": {},
     "output_type": "execute_result"
    }
   ],
   "source": [
    "not False"
   ]
  },
  {
   "cell_type": "code",
   "execution_count": 34,
   "id": "e37f4ee3-9926-4ba7-8808-fc4b11355234",
   "metadata": {},
   "outputs": [
    {
     "data": {
      "text/plain": [
       "True"
      ]
     },
     "execution_count": 34,
     "metadata": {},
     "output_type": "execute_result"
    }
   ],
   "source": [
    "my_str='rudra'\n",
    "my_str.isalpha() or str_example.isnum()"
   ]
  },
  {
   "cell_type": "code",
   "execution_count": 35,
   "id": "c9c8e70b-5c4f-4114-b619-6002e3da0fc3",
   "metadata": {},
   "outputs": [
    {
     "data": {
      "text/plain": [
       "True"
      ]
     },
     "execution_count": 35,
     "metadata": {},
     "output_type": "execute_result"
    }
   ],
   "source": [
    "(3==3) and (3==4) or (5==5)"
   ]
  },
  {
   "cell_type": "code",
   "execution_count": 36,
   "id": "f724f53f-c062-4a54-b32f-2016ce389607",
   "metadata": {},
   "outputs": [
    {
     "data": {
      "text/plain": [
       "19"
      ]
     },
     "execution_count": 36,
     "metadata": {},
     "output_type": "execute_result"
    }
   ],
   "source": [
    "a=19\n",
    "a"
   ]
  },
  {
   "cell_type": "code",
   "execution_count": 38,
   "id": "4a386572-5579-47bc-a5d9-11d6efaa600c",
   "metadata": {},
   "outputs": [
    {
     "name": "stdout",
     "output_type": "stream",
     "text": [
      "21\n"
     ]
    }
   ],
   "source": [
    "a=a+1\n",
    "print(a)"
   ]
  },
  {
   "cell_type": "code",
   "execution_count": 39,
   "id": "6bdcd478-c38e-414e-ab05-11b0b3438d59",
   "metadata": {},
   "outputs": [
    {
     "name": "stdout",
     "output_type": "stream",
     "text": [
      "22\n"
     ]
    }
   ],
   "source": [
    "a+=1\n",
    "print(a)"
   ]
  },
  {
   "cell_type": "code",
   "execution_count": 40,
   "id": "bdcbc72b-cf84-43b3-8985-432af3a5d62f",
   "metadata": {},
   "outputs": [
    {
     "data": {
      "text/plain": [
       "18"
      ]
     },
     "execution_count": 40,
     "metadata": {},
     "output_type": "execute_result"
    }
   ],
   "source": [
    "a-=4\n",
    "a"
   ]
  },
  {
   "cell_type": "code",
   "execution_count": 41,
   "id": "bf635760-79ee-45ad-ad58-447a84ab944c",
   "metadata": {},
   "outputs": [
    {
     "name": "stdout",
     "output_type": "stream",
     "text": [
      "True\n"
     ]
    }
   ],
   "source": [
    "a=6\n",
    "b=6\n",
    "print(a is b)"
   ]
  },
  {
   "cell_type": "code",
   "execution_count": 42,
   "id": "69ff5a53-613c-4efc-8076-95b2dd2acdb8",
   "metadata": {},
   "outputs": [
    {
     "name": "stdout",
     "output_type": "stream",
     "text": [
      "True\n"
     ]
    }
   ],
   "source": [
    "s1 =\"swagatika\"\n",
    "s2=\"swagatika\"\n",
    "print(s1 is s2)"
   ]
  },
  {
   "cell_type": "code",
   "execution_count": 43,
   "id": "836eb4f7-5d91-436f-bf34-b502a2300759",
   "metadata": {},
   "outputs": [
    {
     "data": {
      "text/plain": [
       "True"
      ]
     },
     "execution_count": 43,
     "metadata": {},
     "output_type": "execute_result"
    }
   ],
   "source": [
    "a=7\n",
    "b=9\n",
    "a is not b"
   ]
  },
  {
   "cell_type": "code",
   "execution_count": 44,
   "id": "604e1c9a-ea43-47d5-b37f-540634d6c82e",
   "metadata": {},
   "outputs": [
    {
     "data": {
      "text/plain": [
       "True"
      ]
     },
     "execution_count": 44,
     "metadata": {},
     "output_type": "execute_result"
    }
   ],
   "source": [
    "a='rudra'\n",
    "'dra' in a"
   ]
  },
  {
   "cell_type": "code",
   "execution_count": 48,
   "id": "2c72d052-5773-4363-955e-b41dab49ce28",
   "metadata": {},
   "outputs": [
    {
     "data": {
      "text/plain": [
       "True"
      ]
     },
     "execution_count": 48,
     "metadata": {},
     "output_type": "execute_result"
    }
   ],
   "source": [
    "lst =[6,7,8,9]\n",
    "6 in lst"
   ]
  },
  {
   "cell_type": "code",
   "execution_count": 49,
   "id": "af8074ae-d808-4370-aa45-87b47dae9075",
   "metadata": {},
   "outputs": [
    {
     "data": {
      "text/plain": [
       "True"
      ]
     },
     "execution_count": 49,
     "metadata": {},
     "output_type": "execute_result"
    }
   ],
   "source": [
    "a=[1,2,3,4,5,6]\n",
    "8 not in a"
   ]
  },
  {
   "cell_type": "code",
   "execution_count": null,
   "id": "6ff5fa66-ef8b-41be-aa66-36c94a740bf9",
   "metadata": {},
   "outputs": [],
   "source": []
  }
 ],
 "metadata": {
  "kernelspec": {
   "display_name": "Python 3 (ipykernel)",
   "language": "python",
   "name": "python3"
  },
  "language_info": {
   "codemirror_mode": {
    "name": "ipython",
    "version": 3
   },
   "file_extension": ".py",
   "mimetype": "text/x-python",
   "name": "python",
   "nbconvert_exporter": "python",
   "pygments_lexer": "ipython3",
   "version": "3.11.7"
  }
 },
 "nbformat": 4,
 "nbformat_minor": 5
}
