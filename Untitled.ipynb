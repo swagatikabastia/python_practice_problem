{
 "cells": [
  {
   "cell_type": "code",
   "execution_count": 37,
   "id": "bfaed233-bd2e-42d7-a82b-1d19217288bf",
   "metadata": {},
   "outputs": [
    {
     "name": "stdout",
     "output_type": "stream",
     "text": [
      "6\n"
     ]
    }
   ],
   "source": [
    "print(6)\n"
   ]
  },
  {
   "cell_type": "code",
   "execution_count": 38,
   "id": "dd30f97e-5e45-45b8-a0b6-6c612c1ba675",
   "metadata": {},
   "outputs": [
    {
     "name": "stdout",
     "output_type": "stream",
     "text": [
      "swagatika\n"
     ]
    }
   ],
   "source": [
    "print(\"swagatika\")"
   ]
  },
  {
   "cell_type": "code",
   "execution_count": 39,
   "id": "08e3b762-e2d8-403e-8ada-9138c2724d80",
   "metadata": {},
   "outputs": [
    {
     "name": "stdout",
     "output_type": "stream",
     "text": [
      "swagatika bastia\n"
     ]
    }
   ],
   "source": [
    "print(\"swagatika bastia\")"
   ]
  },
  {
   "cell_type": "code",
   "execution_count": 40,
   "id": "46284ca9-b694-420a-9ed7-f2e59a84bc3e",
   "metadata": {},
   "outputs": [
    {
     "name": "stdout",
     "output_type": "stream",
     "text": [
      "10\n"
     ]
    }
   ],
   "source": [
    "b=10\n",
    "print(b)"
   ]
  },
  {
   "cell_type": "code",
   "execution_count": 41,
   "id": "cf3d52da-b480-4b41-8611-b00214c76834",
   "metadata": {},
   "outputs": [
    {
     "name": "stdout",
     "output_type": "stream",
     "text": [
      "10\n"
     ]
    }
   ],
   "source": [
    "swagatika=10\n",
    "print(swagatika)"
   ]
  },
  {
   "cell_type": "code",
   "execution_count": 42,
   "id": "c2f78326-8c5f-4ea0-926d-fce8a5608a6e",
   "metadata": {},
   "outputs": [
    {
     "name": "stdout",
     "output_type": "stream",
     "text": [
      "swagatika\n"
     ]
    }
   ],
   "source": [
    "print(\"swagatika\")"
   ]
  },
  {
   "cell_type": "code",
   "execution_count": 43,
   "id": "5cd04851-7d36-4a94-801b-e7b77c9a8415",
   "metadata": {},
   "outputs": [
    {
     "name": "stdout",
     "output_type": "stream",
     "text": [
      "20 23 45 56\n"
     ]
    }
   ],
   "source": [
    "a=20\n",
    "b=23\n",
    "c=45\n",
    "d=56\n",
    "print(a,b,c,d)"
   ]
  },
  {
   "cell_type": "code",
   "execution_count": 44,
   "id": "dc19d5d4-e809-46c5-b1a0-169c457d66ce",
   "metadata": {},
   "outputs": [
    {
     "name": "stdout",
     "output_type": "stream",
     "text": [
      "2\n"
     ]
    },
    {
     "data": {
      "text/plain": [
       "int"
      ]
     },
     "execution_count": 44,
     "metadata": {},
     "output_type": "execute_result"
    }
   ],
   "source": [
    "a=2\n",
    "print(a)\n",
    "type(a)"
   ]
  },
  {
   "cell_type": "code",
   "execution_count": 45,
   "id": "ff2fcb49-094d-4a66-81a4-ac5bc2555771",
   "metadata": {},
   "outputs": [
    {
     "name": "stdout",
     "output_type": "stream",
     "text": [
      "3\n"
     ]
    },
    {
     "data": {
      "text/plain": [
       "str"
      ]
     },
     "execution_count": 45,
     "metadata": {},
     "output_type": "execute_result"
    }
   ],
   "source": [
    "a='3'\n",
    "print(a)\n",
    "type(a)"
   ]
  },
  {
   "cell_type": "code",
   "execution_count": 46,
   "id": "a0c0d74a-cb58-456f-a014-aa5340177908",
   "metadata": {},
   "outputs": [
    {
     "name": "stdout",
     "output_type": "stream",
     "text": [
      "112\n"
     ]
    }
   ],
   "source": [
    "# print function in python \n",
    "a=34\n",
    "b=78\n",
    "c=a+b\n",
    "print(c)"
   ]
  },
  {
   "cell_type": "code",
   "execution_count": 47,
   "id": "e8d7dc96-e08f-4ca7-944f-bd63ec4fdfe4",
   "metadata": {},
   "outputs": [
    {
     "name": "stdout",
     "output_type": "stream",
     "text": [
      "82\n"
     ]
    }
   ],
   "source": [
    "a=26\n",
    "b=56\n",
    "print(a+b)"
   ]
  },
  {
   "cell_type": "code",
   "execution_count": 48,
   "id": "54d089ea-2845-40a7-bded-3a28ece851ca",
   "metadata": {},
   "outputs": [
    {
     "name": "stdout",
     "output_type": "stream",
     "text": [
      "560\n"
     ]
    }
   ],
   "source": [
    "print(100+460)"
   ]
  },
  {
   "cell_type": "code",
   "execution_count": 49,
   "id": "18a3d13e-3b2e-4537-84d4-26042f7a3a98",
   "metadata": {},
   "outputs": [
    {
     "name": "stdout",
     "output_type": "stream",
     "text": [
      "11 20 33 21\n"
     ]
    }
   ],
   "source": [
    "a=11\n",
    "b=20\n",
    "c=33\n",
    "d=21\n",
    "print(a,b,c,d)"
   ]
  },
  {
   "cell_type": "code",
   "execution_count": 50,
   "id": "d16693d4-6834-4e6a-8983-e1fa8d5f7acf",
   "metadata": {},
   "outputs": [
    {
     "name": "stdout",
     "output_type": "stream",
     "text": [
      "11:20:33:21\n"
     ]
    }
   ],
   "source": [
    "a=11\n",
    "b=20\n",
    "c=33\n",
    "d=21\n",
    "print(a,b,c,d,sep=\":\")"
   ]
  },
  {
   "cell_type": "code",
   "execution_count": 51,
   "id": "1b6e7248-b0ed-473a-9ea8-445e1fc5dee9",
   "metadata": {},
   "outputs": [
    {
     "name": "stdout",
     "output_type": "stream",
     "text": [
      "The value of a : 11\n"
     ]
    }
   ],
   "source": [
    "a=11\n",
    "print(\"The value of a :\",a)"
   ]
  },
  {
   "cell_type": "code",
   "execution_count": 52,
   "id": "8c573193-bfbf-48ea-b76f-d0ab83bf2371",
   "metadata": {},
   "outputs": [],
   "source": [
    "first_name='swagatika'\n",
    "last_name='bastia'"
   ]
  },
  {
   "cell_type": "code",
   "execution_count": 53,
   "id": "e304821c-70b1-4bfc-b9a2-305e31a98f50",
   "metadata": {},
   "outputs": [
    {
     "name": "stdout",
     "output_type": "stream",
     "text": [
      "name bastia swagatika\n"
     ]
    }
   ],
   "source": [
    "print(\"name\",last_name,first_name)"
   ]
  },
  {
   "cell_type": "code",
   "execution_count": 54,
   "id": "77de21e9-cc3e-4972-9787-f14fcfcba5a8",
   "metadata": {},
   "outputs": [
    {
     "name": "stdout",
     "output_type": "stream",
     "text": [
      "my first name is: swagatika and last name is: bastia\n"
     ]
    }
   ],
   "source": [
    "print(\"my first name is:\",first_name,\"and last name is:\",last_name)"
   ]
  },
  {
   "cell_type": "code",
   "execution_count": 56,
   "id": "e33f90a3-404c-4e4e-8283-2d80b86b88a0",
   "metadata": {},
   "outputs": [
    {
     "name": "stdout",
     "output_type": "stream",
     "text": [
      "my first name is:swagatika and last name is :bastia\n"
     ]
    }
   ],
   "source": [
    "print(\"my first name is:{} and last name is :{}\".format(first_name,last_name))"
   ]
  },
  {
   "cell_type": "code",
   "execution_count": 57,
   "id": "c31584fb-1d7c-41c3-b65d-e42ec60f2d11",
   "metadata": {},
   "outputs": [
    {
     "name": "stdout",
     "output_type": "stream",
     "text": [
      "my first name is:bastia and last name is:bastia\n"
     ]
    }
   ],
   "source": [
    "# we can use keyword arguments to format the string\n",
    "print (\"my first name is:{first} and last name is:{first}\".format(last=last_name,first=last_name))"
   ]
  },
  {
   "cell_type": "code",
   "execution_count": 58,
   "id": "3a9f4744-5617-461a-8d5f-eaa0f5578cf0",
   "metadata": {},
   "outputs": [
    {
     "name": "stdout",
     "output_type": "stream",
     "text": [
      "hello swagatika good morning swagatika\n"
     ]
    }
   ],
   "source": [
    "print(\"hello {name} {greeting} {name}\".format(name=\"swagatika\",greeting=\"good morning\"))"
   ]
  },
  {
   "cell_type": "code",
   "execution_count": 59,
   "id": "b83784eb-cf72-4cdf-bc28-f98721083401",
   "metadata": {},
   "outputs": [
    {
     "name": "stdout",
     "output_type": "stream",
     "text": [
      "The story of Bill,manfred, and Georg\n"
     ]
    }
   ],
   "source": [
    "#we can combine positional arguments with keyword arguments\n",
    "print('The story of {},{}, and {other}'.format('Bill','manfred',other='Georg'))"
   ]
  },
  {
   "cell_type": "code",
   "execution_count": 60,
   "id": "0ddce5f8-5d36-4456-81f7-c4d9bf351582",
   "metadata": {},
   "outputs": [
    {
     "name": "stdout",
     "output_type": "stream",
     "text": [
      "my number is :20 and my name is: swag\n",
      "my number is :20 and my name is:swag\n",
      "my number is : 20 and my name is: swag\n"
     ]
    }
   ],
   "source": [
    "num=20\n",
    "name='swag'\n",
    "print('my number is :{one} and my name is: {two}'.format(one=num,two=name))\n",
    "print('my number is :{} and my name is:{}'.format(num,name))\n",
    "print(\"my number is :\",num,\"and my name is:\",name)"
   ]
  },
  {
   "cell_type": "code",
   "execution_count": null,
   "id": "41ee7bd2-3c74-430d-b91f-92839326b065",
   "metadata": {},
   "outputs": [],
   "source": []
  }
 ],
 "metadata": {
  "kernelspec": {
   "display_name": "Python 3 (ipykernel)",
   "language": "python",
   "name": "python3"
  },
  "language_info": {
   "codemirror_mode": {
    "name": "ipython",
    "version": 3
   },
   "file_extension": ".py",
   "mimetype": "text/x-python",
   "name": "python",
   "nbconvert_exporter": "python",
   "pygments_lexer": "ipython3",
   "version": "3.11.7"
  }
 },
 "nbformat": 4,
 "nbformat_minor": 5
}
