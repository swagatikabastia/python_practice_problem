{
 "cells": [
  {
   "cell_type": "markdown",
   "id": "3f575463-19cd-4cfa-986c-3e4764e317b5",
   "metadata": {},
   "source": [
    "concatenation\n"
   ]
  },
  {
   "cell_type": "code",
   "execution_count": 3,
   "id": "764c513f-5a47-45d5-b9b2-53f03f78cc81",
   "metadata": {},
   "outputs": [
    {
     "data": {
      "text/plain": [
       "'5723'"
      ]
     },
     "execution_count": 3,
     "metadata": {},
     "output_type": "execute_result"
    }
   ],
   "source": [
    "a=\"57\"\n",
    "b=\"23\"\n",
    "a+b"
   ]
  },
  {
   "cell_type": "code",
   "execution_count": 4,
   "id": "32c695cf-31f2-43ed-8791-4bfb6d2a9360",
   "metadata": {},
   "outputs": [
    {
     "data": {
      "text/plain": [
       "5723"
      ]
     },
     "execution_count": 4,
     "metadata": {},
     "output_type": "execute_result"
    }
   ],
   "source": [
    "int(a+b)"
   ]
  },
  {
   "cell_type": "code",
   "execution_count": 5,
   "id": "b7c4cc6c-fb9d-4af3-8474-b7b29f6516b1",
   "metadata": {},
   "outputs": [
    {
     "data": {
      "text/plain": [
       "80"
      ]
     },
     "execution_count": 5,
     "metadata": {},
     "output_type": "execute_result"
    }
   ],
   "source": [
    "int(a)+int(b)"
   ]
  },
  {
   "cell_type": "code",
   "execution_count": 6,
   "id": "22ce22d2-f364-4fd6-baf0-84d6dfad18b3",
   "metadata": {},
   "outputs": [
    {
     "ename": "TypeError",
     "evalue": "unsupported operand type(s) for +: 'int' and 'str'",
     "output_type": "error",
     "traceback": [
      "\u001b[1;31m---------------------------------------------------------------------------\u001b[0m",
      "\u001b[1;31mTypeError\u001b[0m                                 Traceback (most recent call last)",
      "Cell \u001b[1;32mIn[6], line 3\u001b[0m\n\u001b[0;32m      1\u001b[0m d\u001b[38;5;241m=\u001b[39m\u001b[38;5;124m'\u001b[39m\u001b[38;5;124m3\u001b[39m\u001b[38;5;124m'\u001b[39m\n\u001b[0;32m      2\u001b[0m a\u001b[38;5;241m=\u001b[39m\u001b[38;5;241m4\u001b[39m\n\u001b[1;32m----> 3\u001b[0m a\u001b[38;5;241m+\u001b[39md\n",
      "\u001b[1;31mTypeError\u001b[0m: unsupported operand type(s) for +: 'int' and 'str'"
     ]
    }
   ],
   "source": [
    "d='3'\n",
    "a=4\n",
    "a+d"
   ]
  },
  {
   "cell_type": "code",
   "execution_count": 7,
   "id": "69171dd1-359c-4522-a5a6-1ea1accf5ffa",
   "metadata": {},
   "outputs": [
    {
     "data": {
      "text/plain": [
       "7"
      ]
     },
     "execution_count": 7,
     "metadata": {},
     "output_type": "execute_result"
    }
   ],
   "source": [
    "int(d)+a"
   ]
  },
  {
   "cell_type": "code",
   "execution_count": 9,
   "id": "224dde41-77fb-4b83-b545-a836e732f463",
   "metadata": {},
   "outputs": [
    {
     "data": {
      "text/plain": [
       "34"
      ]
     },
     "execution_count": 9,
     "metadata": {},
     "output_type": "execute_result"
    }
   ],
   "source": [
    "int(d+str(a))"
   ]
  },
  {
   "cell_type": "code",
   "execution_count": 1,
   "id": "7266edbb-96ae-4329-9d61-abf7492749e1",
   "metadata": {},
   "outputs": [],
   "source": [
    "a=\"swagatika\"\n",
    "b=123"
   ]
  },
  {
   "cell_type": "code",
   "execution_count": 2,
   "id": "d2b8d7f8-7093-4574-808c-9710831a9901",
   "metadata": {},
   "outputs": [
    {
     "name": "stdout",
     "output_type": "stream",
     "text": [
      "swagatika123\n"
     ]
    }
   ],
   "source": [
    "print(a+str(b))"
   ]
  },
  {
   "cell_type": "code",
   "execution_count": 3,
   "id": "eadd1ea1-ff7c-458a-8e0c-2390833fdfae",
   "metadata": {},
   "outputs": [
    {
     "data": {
      "text/plain": [
       "'swagatikaswagatika'"
      ]
     },
     "execution_count": 3,
     "metadata": {},
     "output_type": "execute_result"
    }
   ],
   "source": [
    "'swagatika'+'swagatika'"
   ]
  },
  {
   "cell_type": "code",
   "execution_count": 4,
   "id": "c06ad766-9480-42ea-94a2-15852ed07943",
   "metadata": {},
   "outputs": [
    {
     "data": {
      "text/plain": [
       "'rudrarudrarudrarudrarudrarudra'"
      ]
     },
     "execution_count": 4,
     "metadata": {},
     "output_type": "execute_result"
    }
   ],
   "source": [
    "\"rudra\" * 6"
   ]
  },
  {
   "cell_type": "code",
   "execution_count": 5,
   "id": "1d896c7e-515d-42f5-9657-60b1f5074e83",
   "metadata": {},
   "outputs": [],
   "source": [
    "user = \"rudra\"\n",
    "lines =101"
   ]
  },
  {
   "cell_type": "code",
   "execution_count": 6,
   "id": "10d971ef-28a2-482a-9d84-edb6012d9aee",
   "metadata": {},
   "outputs": [
    {
     "name": "stdout",
     "output_type": "stream",
     "text": [
      "congratulations, rudra ! you just wrote 101 lines of code\n"
     ]
    }
   ],
   "source": [
    "print(\"congratulations,\",user,\"! you just wrote\",lines,\"lines of code\")"
   ]
  },
  {
   "cell_type": "code",
   "execution_count": 8,
   "id": "34f2d229-27f2-45fe-9fee-119b73bb78e3",
   "metadata": {},
   "outputs": [
    {
     "name": "stdout",
     "output_type": "stream",
     "text": [
      "congratulations,rudra! you just wrote101lines of code\n"
     ]
    }
   ],
   "source": [
    "print(\"congratulations,\"+user+ \"! you just wrote\" + str(lines) + \"lines of code\")"
   ]
  },
  {
   "cell_type": "markdown",
   "id": "23b5d5fc-bac0-4735-8201-1ee82da0264b",
   "metadata": {},
   "source": [
    "length of string"
   ]
  },
  {
   "cell_type": "code",
   "execution_count": 9,
   "id": "bdcc51df-aeaf-430d-b92e-af7dade25e21",
   "metadata": {},
   "outputs": [
    {
     "data": {
      "text/plain": [
       "18"
      ]
     },
     "execution_count": 9,
     "metadata": {},
     "output_type": "execute_result"
    }
   ],
   "source": [
    "d='This is intersting'\n",
    "len(d)"
   ]
  },
  {
   "cell_type": "code",
   "execution_count": null,
   "id": "74208ceb-8292-4b58-80e1-a04d8c84b780",
   "metadata": {},
   "outputs": [],
   "source": []
  },
  {
   "cell_type": "markdown",
   "id": "c3dbbbf5-1093-42c7-9bbf-7a0f15e6a042",
   "metadata": {},
   "source": [
    "Delete string"
   ]
  },
  {
   "cell_type": "code",
   "execution_count": 10,
   "id": "553744db-1125-4777-be5d-a945262ef76d",
   "metadata": {},
   "outputs": [
    {
     "ename": "NameError",
     "evalue": "name 'd' is not defined",
     "output_type": "error",
     "traceback": [
      "\u001b[1;31m---------------------------------------------------------------------------\u001b[0m",
      "\u001b[1;31mNameError\u001b[0m                                 Traceback (most recent call last)",
      "Cell \u001b[1;32mIn[10], line 2\u001b[0m\n\u001b[0;32m      1\u001b[0m \u001b[38;5;28;01mdel\u001b[39;00m d\n\u001b[1;32m----> 2\u001b[0m \u001b[38;5;28mprint\u001b[39m(d)\n",
      "\u001b[1;31mNameError\u001b[0m: name 'd' is not defined"
     ]
    }
   ],
   "source": [
    "del d\n",
    "print(d)"
   ]
  },
  {
   "cell_type": "code",
   "execution_count": null,
   "id": "abb616cd-a09d-431f-b9cb-f3693451fc20",
   "metadata": {},
   "outputs": [],
   "source": []
  },
  {
   "cell_type": "markdown",
   "id": "21438645-9df7-4e87-8d5a-a3488e755b87",
   "metadata": {},
   "source": [
    "How to acess charecters in a string using indexing\n"
   ]
  },
  {
   "cell_type": "code",
   "execution_count": 11,
   "id": "9566f3f5-9601-4276-8598-cf96c8835eb9",
   "metadata": {},
   "outputs": [],
   "source": [
    "myString =\"Hello\""
   ]
  },
  {
   "cell_type": "code",
   "execution_count": 12,
   "id": "51be22c8-a4bc-4fe2-b11e-4e5bf9178332",
   "metadata": {},
   "outputs": [
    {
     "name": "stdout",
     "output_type": "stream",
     "text": [
      "H\n"
     ]
    }
   ],
   "source": [
    "print(myString[0])"
   ]
  },
  {
   "cell_type": "code",
   "execution_count": 13,
   "id": "0167abec-125c-452c-a98f-7945bbd82cf8",
   "metadata": {},
   "outputs": [
    {
     "name": "stdout",
     "output_type": "stream",
     "text": [
      "o\n"
     ]
    }
   ],
   "source": [
    "print(myString[-1])"
   ]
  },
  {
   "cell_type": "code",
   "execution_count": 15,
   "id": "d5758774-da46-4768-8469-a47ae3b70a08",
   "metadata": {},
   "outputs": [
    {
     "name": "stdout",
     "output_type": "stream",
     "text": [
      "l\n"
     ]
    }
   ],
   "source": [
    "print(myString[-3])"
   ]
  },
  {
   "cell_type": "code",
   "execution_count": 16,
   "id": "1daea053-2e1a-4327-9990-92b54dad149f",
   "metadata": {},
   "outputs": [
    {
     "ename": "IndexError",
     "evalue": "string index out of range",
     "output_type": "error",
     "traceback": [
      "\u001b[1;31m---------------------------------------------------------------------------\u001b[0m",
      "\u001b[1;31mIndexError\u001b[0m                                Traceback (most recent call last)",
      "Cell \u001b[1;32mIn[16], line 1\u001b[0m\n\u001b[1;32m----> 1\u001b[0m \u001b[38;5;28mprint\u001b[39m(myString[\u001b[38;5;241m5\u001b[39m])\n",
      "\u001b[1;31mIndexError\u001b[0m: string index out of range"
     ]
    }
   ],
   "source": [
    "print(myString[5])"
   ]
  },
  {
   "cell_type": "code",
   "execution_count": 17,
   "id": "382be9b5-4624-4d9c-8297-250700047d56",
   "metadata": {},
   "outputs": [
    {
     "ename": "TypeError",
     "evalue": "string indices must be integers, not 'float'",
     "output_type": "error",
     "traceback": [
      "\u001b[1;31m---------------------------------------------------------------------------\u001b[0m",
      "\u001b[1;31mTypeError\u001b[0m                                 Traceback (most recent call last)",
      "Cell \u001b[1;32mIn[17], line 1\u001b[0m\n\u001b[1;32m----> 1\u001b[0m \u001b[38;5;28mprint\u001b[39m(myString[\u001b[38;5;241m1.5\u001b[39m])\n",
      "\u001b[1;31mTypeError\u001b[0m: string indices must be integers, not 'float'"
     ]
    }
   ],
   "source": [
    "print(myString[1.5])"
   ]
  },
  {
   "cell_type": "markdown",
   "id": "2e545ce0-fc21-4820-906f-77830901024a",
   "metadata": {},
   "source": [
    "String Immutable"
   ]
  },
  {
   "cell_type": "code",
   "execution_count": 18,
   "id": "506f926e-4a0f-468a-bc44-1301e2c53b52",
   "metadata": {},
   "outputs": [
    {
     "ename": "TypeError",
     "evalue": "'str' object does not support item assignment",
     "output_type": "error",
     "traceback": [
      "\u001b[1;31m---------------------------------------------------------------------------\u001b[0m",
      "\u001b[1;31mTypeError\u001b[0m                                 Traceback (most recent call last)",
      "Cell \u001b[1;32mIn[18], line 2\u001b[0m\n\u001b[0;32m      1\u001b[0m myString \u001b[38;5;241m=\u001b[39m\u001b[38;5;124m\"\u001b[39m\u001b[38;5;124mHello\u001b[39m\u001b[38;5;124m\"\u001b[39m\n\u001b[1;32m----> 2\u001b[0m myString[\u001b[38;5;241m4\u001b[39m]\u001b[38;5;241m=\u001b[39m\u001b[38;5;124m'\u001b[39m\u001b[38;5;124ms\u001b[39m\u001b[38;5;124m'\u001b[39m\n",
      "\u001b[1;31mTypeError\u001b[0m: 'str' object does not support item assignment"
     ]
    }
   ],
   "source": [
    "myString =\"Hello\"\n",
    "myString[4]='s'"
   ]
  },
  {
   "cell_type": "code",
   "execution_count": null,
   "id": "d35d5d50-1308-470c-b3ef-c57bef583943",
   "metadata": {},
   "outputs": [],
   "source": []
  },
  {
   "cell_type": "markdown",
   "id": "948e1399-674a-4648-89c4-eb75bef98db3",
   "metadata": {},
   "source": [
    "Slicing the strings"
   ]
  },
  {
   "cell_type": "code",
   "execution_count": 21,
   "id": "04c4086c-02e9-4595-a069-a9b25257437c",
   "metadata": {},
   "outputs": [
    {
     "name": "stdout",
     "output_type": "stream",
     "text": [
      "l\n"
     ]
    }
   ],
   "source": [
    "print(myString[3:4])"
   ]
  },
  {
   "cell_type": "code",
   "execution_count": 22,
   "id": "64cba645-feb9-437d-9708-e69bf07f38d9",
   "metadata": {},
   "outputs": [
    {
     "name": "stdout",
     "output_type": "stream",
     "text": [
      "He\n"
     ]
    }
   ],
   "source": [
    "print(myString[0:2])"
   ]
  },
  {
   "cell_type": "code",
   "execution_count": 23,
   "id": "90202159-2058-4301-acdb-bb3707d334ab",
   "metadata": {},
   "outputs": [
    {
     "data": {
      "text/plain": [
       "'lo'"
      ]
     },
     "execution_count": 23,
     "metadata": {},
     "output_type": "execute_result"
    }
   ],
   "source": [
    "myString[3: ]"
   ]
  },
  {
   "cell_type": "code",
   "execution_count": 24,
   "id": "a90dadd0-594a-440d-b72c-161ed86a366d",
   "metadata": {},
   "outputs": [
    {
     "data": {
      "text/plain": [
       "'Hello'"
      ]
     },
     "execution_count": 24,
     "metadata": {},
     "output_type": "execute_result"
    }
   ],
   "source": [
    "myString[ :5]"
   ]
  },
  {
   "cell_type": "code",
   "execution_count": 25,
   "id": "c4c019aa-5ac5-4dab-bbfd-59d4f69cb348",
   "metadata": {},
   "outputs": [
    {
     "data": {
      "text/plain": [
       "'Hello'"
      ]
     },
     "execution_count": 25,
     "metadata": {},
     "output_type": "execute_result"
    }
   ],
   "source": [
    "myString[ : ]"
   ]
  },
  {
   "cell_type": "code",
   "execution_count": 26,
   "id": "0d7b8df2-2118-4056-af7c-02483481331d",
   "metadata": {},
   "outputs": [
    {
     "data": {
      "text/plain": [
       "'Hello'"
      ]
     },
     "execution_count": 26,
     "metadata": {},
     "output_type": "execute_result"
    }
   ],
   "source": [
    "myString"
   ]
  },
  {
   "cell_type": "code",
   "execution_count": 28,
   "id": "fc42efde-4e01-49f8-a310-e25643595dc3",
   "metadata": {},
   "outputs": [
    {
     "data": {
      "text/plain": [
       "'Hl'"
      ]
     },
     "execution_count": 28,
     "metadata": {},
     "output_type": "execute_result"
    }
   ],
   "source": [
    "myString[ : : 3]"
   ]
  },
  {
   "cell_type": "code",
   "execution_count": 29,
   "id": "2b841bc3-8a13-4d06-92a0-353deaa4cb65",
   "metadata": {},
   "outputs": [
    {
     "data": {
      "text/plain": [
       "'ol'"
      ]
     },
     "execution_count": 29,
     "metadata": {},
     "output_type": "execute_result"
    }
   ],
   "source": [
    "myString[-1:-4:-2]"
   ]
  },
  {
   "cell_type": "code",
   "execution_count": 31,
   "id": "4c3c72a8-fa12-4969-88ac-043730b2a923",
   "metadata": {},
   "outputs": [
    {
     "data": {
      "text/plain": [
       "'oe'"
      ]
     },
     "execution_count": 31,
     "metadata": {},
     "output_type": "execute_result"
    }
   ],
   "source": [
    "myString[ : : -3]"
   ]
  },
  {
   "cell_type": "markdown",
   "id": "79d24e88-7b42-4fd4-91b9-03a83d021743",
   "metadata": {},
   "source": [
    "String Methods"
   ]
  },
  {
   "cell_type": "code",
   "execution_count": 32,
   "id": "f8e06926-f2c5-4810-a958-8d343dcf6929",
   "metadata": {},
   "outputs": [
    {
     "data": {
      "text/plain": [
       "'Good morning swag'"
      ]
     },
     "execution_count": 32,
     "metadata": {},
     "output_type": "execute_result"
    }
   ],
   "source": [
    "\"good morning swag\".capitalize()"
   ]
  },
  {
   "cell_type": "code",
   "execution_count": 33,
   "id": "8d8b17c8-1574-40c7-b662-67bf37c75276",
   "metadata": {},
   "outputs": [
    {
     "data": {
      "text/plain": [
       "'Good morning .swag'"
      ]
     },
     "execution_count": 33,
     "metadata": {},
     "output_type": "execute_result"
    }
   ],
   "source": [
    "'good morning .swag'.capitalize()"
   ]
  },
  {
   "cell_type": "code",
   "execution_count": 36,
   "id": "933da1b5-6fde-4271-9ec6-92653477860b",
   "metadata": {},
   "outputs": [
    {
     "data": {
      "text/plain": [
       "'Good Morning'"
      ]
     },
     "execution_count": 36,
     "metadata": {},
     "output_type": "execute_result"
    }
   ],
   "source": [
    "a = \"gOOd MoRning\"\n",
    "a.title()"
   ]
  },
  {
   "cell_type": "code",
   "execution_count": 38,
   "id": "9d33b768-3072-4d24-acc2-925ee962992f",
   "metadata": {},
   "outputs": [
    {
     "data": {
      "text/plain": [
       "'Good Morning'"
      ]
     },
     "execution_count": 38,
     "metadata": {},
     "output_type": "execute_result"
    }
   ],
   "source": [
    " \"gOOd MoRning\".title()"
   ]
  },
  {
   "cell_type": "raw",
   "id": "d8b561b4-3594-44b0-8e2c-2e7e1612c46f",
   "metadata": {},
   "source": [
    "a.upper()"
   ]
  },
  {
   "cell_type": "code",
   "execution_count": 40,
   "id": "33ec143d-bd27-4c86-81ad-42eec1f5d4d5",
   "metadata": {},
   "outputs": [
    {
     "data": {
      "text/plain": [
       "'good morning'"
      ]
     },
     "execution_count": 40,
     "metadata": {},
     "output_type": "execute_result"
    }
   ],
   "source": [
    "a.lower()"
   ]
  },
  {
   "cell_type": "code",
   "execution_count": 41,
   "id": "3db42946-f9d9-47e5-ad0b-bba3a19964db",
   "metadata": {},
   "outputs": [
    {
     "data": {
      "text/plain": [
       "['hello', 'my', 'name', 'is', 'rudra']"
      ]
     },
     "execution_count": 41,
     "metadata": {},
     "output_type": "execute_result"
    }
   ],
   "source": [
    "st = 'hello my name is rudra'\n",
    "st.split( ' ' )"
   ]
  },
  {
   "cell_type": "code",
   "execution_count": 42,
   "id": "09dd1002-7afc-4483-846b-82bd6e4421dd",
   "metadata": {},
   "outputs": [
    {
     "data": {
      "text/plain": [
       "['Go sports! ', ' Sports']"
      ]
     },
     "execution_count": 42,
     "metadata": {},
     "output_type": "execute_result"
    }
   ],
   "source": [
    "tweet = 'Go sports! # Sports'\n",
    "tweet.split('#')"
   ]
  },
  {
   "cell_type": "code",
   "execution_count": 43,
   "id": "6292a614-43dd-4a91-ad7d-5b769913f084",
   "metadata": {},
   "outputs": [
    {
     "data": {
      "text/plain": [
       "['This', 'will', 'split', 'all', 'words', 'in', 'a', 'list']"
      ]
     },
     "execution_count": 43,
     "metadata": {},
     "output_type": "execute_result"
    }
   ],
   "source": [
    "\"This will split all words in a list\".split()"
   ]
  },
  {
   "cell_type": "code",
   "execution_count": 44,
   "id": "7e6cc38b-ee91-4ef2-83de-94e10b662495",
   "metadata": {},
   "outputs": [
    {
     "data": {
      "text/plain": [
       "'This will split all words in a list'"
      ]
     },
     "execution_count": 44,
     "metadata": {},
     "output_type": "execute_result"
    }
   ],
   "source": [
    "' '.join(['This', 'will', 'split', 'all', 'words', 'in', 'a', 'list'])"
   ]
  },
  {
   "cell_type": "code",
   "execution_count": 45,
   "id": "7a6fba7c-e743-46ae-95a7-faf4918447bd",
   "metadata": {},
   "outputs": [
    {
     "data": {
      "text/plain": [
       "5"
      ]
     },
     "execution_count": 45,
     "metadata": {},
     "output_type": "execute_result"
    }
   ],
   "source": [
    "\" hey swagatika \".find(\"s\")"
   ]
  },
  {
   "cell_type": "code",
   "execution_count": 47,
   "id": "80dbd89a-3f6c-46c1-9dde-a095cb344ab1",
   "metadata": {},
   "outputs": [
    {
     "data": {
      "text/plain": [
       "1"
      ]
     },
     "execution_count": 47,
     "metadata": {},
     "output_type": "execute_result"
    }
   ],
   "source": [
    "\" hey swagatika \".count(\"t\")"
   ]
  },
  {
   "cell_type": "code",
   "execution_count": 48,
   "id": "915da02f-8986-4922-80fa-367df1686d29",
   "metadata": {},
   "outputs": [],
   "source": [
    "s1 = \" hey swagatika \"\n",
    "s2 = s1.replace(\"hey\", \"hello\")"
   ]
  },
  {
   "cell_type": "code",
   "execution_count": 52,
   "id": "d367e20a-422d-44f3-b891-b8c947a824a6",
   "metadata": {},
   "outputs": [
    {
     "name": "stdout",
     "output_type": "stream",
     "text": [
      "True\n",
      "False\n",
      "False\n",
      "False\n",
      "False\n",
      "True\n",
      "False\n",
      "False\n",
      "False\n"
     ]
    }
   ],
   "source": [
    "my_str='rudra123'\n",
    "print(my_str.isalnum())\n",
    "print(my_str.isalpha())\n",
    "print(my_str.isdigit())\n",
    "print(my_str.istitle())\n",
    "print(my_str.isupper())\n",
    "print(my_str.islower())\n",
    "print(my_str.isspace())\n",
    "print(my_str.endswith('s'))\n",
    "print(my_str.startswith('s'))\n"
   ]
  },
  {
   "cell_type": "code",
   "execution_count": null,
   "id": "3d989f84-7624-4344-8970-2cd50af5982e",
   "metadata": {},
   "outputs": [],
   "source": []
  }
 ],
 "metadata": {
  "kernelspec": {
   "display_name": "Python 3 (ipykernel)",
   "language": "python",
   "name": "python3"
  },
  "language_info": {
   "codemirror_mode": {
    "name": "ipython",
    "version": 3
   },
   "file_extension": ".py",
   "mimetype": "text/x-python",
   "name": "python",
   "nbconvert_exporter": "python",
   "pygments_lexer": "ipython3",
   "version": "3.11.7"
  }
 },
 "nbformat": 4,
 "nbformat_minor": 5
}
