{
 "cells": [
  {
   "cell_type": "code",
   "execution_count": 4,
   "id": "ea8fb8e8-9267-4d74-8f4d-b1bd53ad70a9",
   "metadata": {},
   "outputs": [
    {
     "name": "stdout",
     "output_type": "stream",
     "text": [
      "10.501\n",
      "<class 'type'>\n"
     ]
    }
   ],
   "source": [
    "a=010.501\n",
    "print(a)\n",
    "print(type)\n"
   ]
  },
  {
   "cell_type": "code",
   "execution_count": 6,
   "id": "fba2d0c2-8df9-4aa3-819e-c01075459b9d",
   "metadata": {},
   "outputs": [
    {
     "data": {
      "text/plain": [
       "True"
      ]
     },
     "execution_count": 6,
     "metadata": {},
     "output_type": "execute_result"
    }
   ],
   "source": [
    "10.5==10.50"
   ]
  },
  {
   "cell_type": "code",
   "execution_count": 7,
   "id": "a6dfc763-6974-4448-988f-656ad9b1edc3",
   "metadata": {},
   "outputs": [
    {
     "ename": "SyntaxError",
     "evalue": "leading zeros in decimal integer literals are not permitted; use an 0o prefix for octal integers (214576337.py, line 2)",
     "output_type": "error",
     "traceback": [
      "\u001b[1;36m  Cell \u001b[1;32mIn[7], line 2\u001b[1;36m\u001b[0m\n\u001b[1;33m    print(0015)\u001b[0m\n\u001b[1;37m          ^\u001b[0m\n\u001b[1;31mSyntaxError\u001b[0m\u001b[1;31m:\u001b[0m leading zeros in decimal integer literals are not permitted; use an 0o prefix for octal integers\n"
     ]
    }
   ],
   "source": [
    "print(5)\n",
    "print(0015)"
   ]
  },
  {
   "cell_type": "code",
   "execution_count": 8,
   "id": "e8979a89-0f8b-44c6-8a1e-b6a439729b77",
   "metadata": {},
   "outputs": [
    {
     "name": "stdout",
     "output_type": "stream",
     "text": [
      "5.0\n"
     ]
    }
   ],
   "source": [
    "print(5.0)\n"
   ]
  },
  {
   "cell_type": "code",
   "execution_count": 9,
   "id": "53b7498e-fd51-4bf0-9561-6dbece5b12de",
   "metadata": {},
   "outputs": [
    {
     "name": "stdout",
     "output_type": "stream",
     "text": [
      "15.15\n"
     ]
    }
   ],
   "source": [
    "print(0015.1500)"
   ]
  },
  {
   "cell_type": "code",
   "execution_count": 11,
   "id": "02c79d62-1a2c-427e-b15a-8a451565d3e7",
   "metadata": {},
   "outputs": [
    {
     "data": {
      "text/plain": [
       "bool"
      ]
     },
     "execution_count": 11,
     "metadata": {},
     "output_type": "execute_result"
    }
   ],
   "source": [
    "b1=True\n",
    "type(b1)"
   ]
  },
  {
   "cell_type": "code",
   "execution_count": 13,
   "id": "7809231b-de2d-4508-9499-326752b489ba",
   "metadata": {},
   "outputs": [
    {
     "data": {
      "text/plain": [
       "0"
      ]
     },
     "execution_count": 13,
     "metadata": {},
     "output_type": "execute_result"
    }
   ],
   "source": [
    "b=3\n",
    "c=False\n",
    "b*c"
   ]
  },
  {
   "cell_type": "code",
   "execution_count": 16,
   "id": "b1a66255-a61d-46ec-b5ff-ae08b6dc917b",
   "metadata": {},
   "outputs": [],
   "source": [
    "x=10+20j"
   ]
  },
  {
   "cell_type": "code",
   "execution_count": 20,
   "id": "062a199c-aeff-4420-980e-8949ba67bdfe",
   "metadata": {},
   "outputs": [
    {
     "data": {
      "text/plain": [
       "complex"
      ]
     },
     "execution_count": 20,
     "metadata": {},
     "output_type": "execute_result"
    }
   ],
   "source": [
    "type(x)"
   ]
  },
  {
   "cell_type": "code",
   "execution_count": 17,
   "id": "047a31ae-56ac-4d6a-823d-4fd3238cfc4a",
   "metadata": {},
   "outputs": [
    {
     "data": {
      "text/plain": [
       "10.0"
      ]
     },
     "execution_count": 17,
     "metadata": {},
     "output_type": "execute_result"
    }
   ],
   "source": [
    "x.real"
   ]
  },
  {
   "cell_type": "code",
   "execution_count": 19,
   "id": "751d90a9-ee85-4055-b616-9bd6268c04e4",
   "metadata": {},
   "outputs": [
    {
     "data": {
      "text/plain": [
       "20.0"
      ]
     },
     "execution_count": 19,
     "metadata": {},
     "output_type": "execute_result"
    }
   ],
   "source": [
    "x.imag"
   ]
  },
  {
   "cell_type": "code",
   "execution_count": 21,
   "id": "0cd21d88-f9fd-464e-8d74-0acd8fee0866",
   "metadata": {},
   "outputs": [
    {
     "ename": "SyntaxError",
     "evalue": "invalid syntax (3362080075.py, line 1)",
     "output_type": "error",
     "traceback": [
      "\u001b[1;36m  Cell \u001b[1;32mIn[21], line 1\u001b[1;36m\u001b[0m\n\u001b[1;33m    x=10+(-20)k\u001b[0m\n\u001b[1;37m              ^\u001b[0m\n\u001b[1;31mSyntaxError\u001b[0m\u001b[1;31m:\u001b[0m invalid syntax\n"
     ]
    }
   ],
   "source": [
    "x=10+(-20)k"
   ]
  },
  {
   "cell_type": "code",
   "execution_count": 23,
   "id": "65540398-8451-4dbb-af42-76442e94bec6",
   "metadata": {},
   "outputs": [],
   "source": [
    "x=10+(-2j)"
   ]
  },
  {
   "cell_type": "code",
   "execution_count": 24,
   "id": "f6ddf06c-6574-45bf-b3a3-8f5a799eabed",
   "metadata": {},
   "outputs": [
    {
     "data": {
      "text/plain": [
       "complex"
      ]
     },
     "execution_count": 24,
     "metadata": {},
     "output_type": "execute_result"
    }
   ],
   "source": [
    "type(x)"
   ]
  },
  {
   "cell_type": "code",
   "execution_count": 25,
   "id": "988d7738-b9d0-4059-ae70-43b26a54d036",
   "metadata": {},
   "outputs": [
    {
     "data": {
      "text/plain": [
       "10.0"
      ]
     },
     "execution_count": 25,
     "metadata": {},
     "output_type": "execute_result"
    }
   ],
   "source": [
    "x.real"
   ]
  },
  {
   "cell_type": "code",
   "execution_count": 26,
   "id": "90611db7-b613-493c-b3f5-796f3def7d29",
   "metadata": {},
   "outputs": [
    {
     "data": {
      "text/plain": [
       "-2.0"
      ]
     },
     "execution_count": 26,
     "metadata": {},
     "output_type": "execute_result"
    }
   ],
   "source": [
    "x.imag"
   ]
  },
  {
   "cell_type": "code",
   "execution_count": 28,
   "id": "d56308b9-447a-4864-b417-e2f5c6c8eee2",
   "metadata": {},
   "outputs": [],
   "source": [
    "a=\"505.5\""
   ]
  },
  {
   "cell_type": "code",
   "execution_count": 35,
   "id": "dbfe3f68-01a2-4853-994f-d1b85e0f4639",
   "metadata": {},
   "outputs": [
    {
     "data": {
      "text/plain": [
       "505"
      ]
     },
     "execution_count": 35,
     "metadata": {},
     "output_type": "execute_result"
    }
   ],
   "source": [
    "int(a)"
   ]
  },
  {
   "cell_type": "code",
   "execution_count": 34,
   "id": "271f5100-e0f6-4416-a357-34805eacf9bb",
   "metadata": {},
   "outputs": [
    {
     "data": {
      "text/plain": [
       "505.0"
      ]
     },
     "execution_count": 34,
     "metadata": {},
     "output_type": "execute_result"
    }
   ],
   "source": [
    "float(a)"
   ]
  },
  {
   "cell_type": "code",
   "execution_count": 31,
   "id": "4285486f-b391-405a-8816-3df0a7b579cc",
   "metadata": {},
   "outputs": [
    {
     "data": {
      "text/plain": [
       "'505'"
      ]
     },
     "execution_count": 31,
     "metadata": {},
     "output_type": "execute_result"
    }
   ],
   "source": [
    "str(a)"
   ]
  },
  {
   "cell_type": "code",
   "execution_count": 36,
   "id": "5c29b96c-9e9d-441b-acd5-b2030082ce76",
   "metadata": {},
   "outputs": [
    {
     "data": {
      "text/plain": [
       "505"
      ]
     },
     "execution_count": 36,
     "metadata": {},
     "output_type": "execute_result"
    }
   ],
   "source": [
    "int(float(a))"
   ]
  },
  {
   "cell_type": "code",
   "execution_count": 37,
   "id": "7d495574-3e24-4486-9b4a-e5cb654b833c",
   "metadata": {},
   "outputs": [
    {
     "name": "stdin",
     "output_type": "stream",
     "text": [
      "enter a decimal number 2.4\n"
     ]
    }
   ],
   "source": [
    "a=input(\"enter a decimal number\")"
   ]
  },
  {
   "cell_type": "code",
   "execution_count": 38,
   "id": "8ccf9119-7dcd-4795-8eb8-233232533749",
   "metadata": {},
   "outputs": [
    {
     "ename": "ValueError",
     "evalue": "invalid literal for int() with base 10: '2.4'",
     "output_type": "error",
     "traceback": [
      "\u001b[1;31m---------------------------------------------------------------------------\u001b[0m",
      "\u001b[1;31mValueError\u001b[0m                                Traceback (most recent call last)",
      "Cell \u001b[1;32mIn[38], line 1\u001b[0m\n\u001b[1;32m----> 1\u001b[0m \u001b[38;5;28mint\u001b[39m(a)\n",
      "\u001b[1;31mValueError\u001b[0m: invalid literal for int() with base 10: '2.4'"
     ]
    }
   ],
   "source": [
    "int(a)"
   ]
  },
  {
   "cell_type": "code",
   "execution_count": 39,
   "id": "a9cc95b8-8bd6-4aaa-a21a-607a608cdf95",
   "metadata": {},
   "outputs": [
    {
     "data": {
      "text/plain": [
       "2.4"
      ]
     },
     "execution_count": 39,
     "metadata": {},
     "output_type": "execute_result"
    }
   ],
   "source": [
    "float(a)"
   ]
  },
  {
   "cell_type": "code",
   "execution_count": 43,
   "id": "952e6c9d-61ca-4208-88fc-1d11f2f15e94",
   "metadata": {},
   "outputs": [
    {
     "name": "stdout",
     "output_type": "stream",
     "text": [
      "navin's\"laptop\"\n"
     ]
    }
   ],
   "source": [
    "print('navin\\'s\"laptop\"')"
   ]
  },
  {
   "cell_type": "code",
   "execution_count": 44,
   "id": "283f53b0-0111-4d05-8545-c53f4f89d3e3",
   "metadata": {},
   "outputs": [
    {
     "data": {
      "text/plain": [
       "''"
      ]
     },
     "execution_count": 44,
     "metadata": {},
     "output_type": "execute_result"
    }
   ],
   "source": [
    "a[5:1]"
   ]
  },
  {
   "cell_type": "code",
   "execution_count": 45,
   "id": "4b3bda50-4ac7-4afa-81e0-b7f900b534d0",
   "metadata": {},
   "outputs": [
    {
     "data": {
      "text/plain": [
       "'GOOD EVENING'"
      ]
     },
     "execution_count": 45,
     "metadata": {},
     "output_type": "execute_result"
    }
   ],
   "source": [
    "A=\"GOOD MORNING\"\n",
    "B=A.replace(\"MORNING\",\"EVENING\")\n",
    "B"
   ]
  },
  {
   "cell_type": "code",
   "execution_count": 62,
   "id": "64e087d0-e1ea-4ea1-b61e-b6fc579fec62",
   "metadata": {},
   "outputs": [
    {
     "name": "stdin",
     "output_type": "stream",
     "text": [
      "enter your email id: swag1999@gmail.com\n"
     ]
    }
   ],
   "source": [
    "local,domain=input(\"enter your email id:\").split('@')\n"
   ]
  },
  {
   "cell_type": "code",
   "execution_count": 65,
   "id": "5ffb193d-0657-415c-ac3b-5304b437bf29",
   "metadata": {},
   "outputs": [
    {
     "data": {
      "text/plain": [
       "'swag1999'"
      ]
     },
     "execution_count": 65,
     "metadata": {},
     "output_type": "execute_result"
    }
   ],
   "source": [
    "local"
   ]
  },
  {
   "cell_type": "code",
   "execution_count": 64,
   "id": "713deab2-0ddc-432b-a157-e3e5e7f1cdb3",
   "metadata": {},
   "outputs": [
    {
     "data": {
      "text/plain": [
       "'gmail.com'"
      ]
     },
     "execution_count": 64,
     "metadata": {},
     "output_type": "execute_result"
    }
   ],
   "source": [
    "domain"
   ]
  },
  {
   "cell_type": "code",
   "execution_count": 4,
   "id": "d6ad96ea-ebc8-4539-a8e7-819dfbe20336",
   "metadata": {},
   "outputs": [
    {
     "name": "stdin",
     "output_type": "stream",
     "text": [
      "Enter your email id -  sambit@gmail.com\n"
     ]
    },
    {
     "data": {
      "text/plain": [
       "['sambit', 'gmail.com']"
      ]
     },
     "execution_count": 4,
     "metadata": {},
     "output_type": "execute_result"
    }
   ],
   "source": [
    "a  = input(\"Enter your email id - \")\n",
    "b = a.split(\"@\")\n",
    "b"
   ]
  },
  {
   "cell_type": "code",
   "execution_count": 5,
   "id": "d0a9af8d-2f1e-45fd-8f6c-27bbf32608d6",
   "metadata": {},
   "outputs": [
    {
     "data": {
      "text/plain": [
       "'sambit'"
      ]
     },
     "execution_count": 5,
     "metadata": {},
     "output_type": "execute_result"
    }
   ],
   "source": [
    "b[0]"
   ]
  },
  {
   "cell_type": "code",
   "execution_count": 6,
   "id": "53688542-4f99-4748-89c8-e42bc292e55f",
   "metadata": {},
   "outputs": [
    {
     "data": {
      "text/plain": [
       "'gmail.com'"
      ]
     },
     "execution_count": 6,
     "metadata": {},
     "output_type": "execute_result"
    }
   ],
   "source": [
    "b[1]"
   ]
  },
  {
   "cell_type": "code",
   "execution_count": null,
   "id": "ccb1c241-39b6-457d-b179-a4c73dc7840c",
   "metadata": {},
   "outputs": [],
   "source": []
  }
 ],
 "metadata": {
  "kernelspec": {
   "display_name": "Python 3 (ipykernel)",
   "language": "python",
   "name": "python3"
  },
  "language_info": {
   "codemirror_mode": {
    "name": "ipython",
    "version": 3
   },
   "file_extension": ".py",
   "mimetype": "text/x-python",
   "name": "python",
   "nbconvert_exporter": "python",
   "pygments_lexer": "ipython3",
   "version": "3.11.7"
  }
 },
 "nbformat": 4,
 "nbformat_minor": 5
}
